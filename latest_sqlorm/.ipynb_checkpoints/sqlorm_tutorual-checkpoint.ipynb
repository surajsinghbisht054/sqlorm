{
 "cells": [
  {
   "cell_type": "code",
   "execution_count": 71,
   "metadata": {
    "collapsed": true
   },
   "outputs": [],
   "source": [
    "#!/usr/bin/python\n",
    "#\n",
    "#   ^^^^^^^^^^^^^^^^^^^^^^^^^^^^^^^^^^^^^\n",
    "#       Object InterFace Manual\n",
    "#   ^^^^^^^^^^^^^^^^^^^^^^^^^^^^^^^^^^^^^\n",
    "#   author:\n",
    "#       surajsinghbisht054@gmail.com\n",
    "#       https://bitforestinfo.blogspot.com\n",
    "#\n",
    "#\n",
    "#    About sqlorm:  \n",
    "#          A Python object relational mapper for SQLite3.\n",
    "#\n",
    "#    Reference:  https://www.sqlite.org/lang.html\n",
    "#               https://docs.python.org/3/library/sqlite3.html\n",
    "#\n",
    "#    Import:\n",
    "#      from sqlorm import Model, Field\n",
    "#"
   ]
  },
  {
   "cell_type": "code",
   "execution_count": 72,
   "metadata": {
    "collapsed": true
   },
   "outputs": [],
   "source": [
    "# Import Module\n",
    "from sqlorm import Field, Model"
   ]
  },
  {
   "cell_type": "code",
   "execution_count": 73,
   "metadata": {
    "collapsed": true
   },
   "outputs": [],
   "source": [
    "# Creating A Database Models Structure\n",
    "#\n",
    "# Here, \"TestingDataBase\" is used as default Sqlite Database File Name \n",
    "class TestingDataBase(Model):\n",
    "    # Creating New Table. Name=\"AboutTeachers\"\n",
    "    class AboutTeachers:\n",
    "        # Creating 4 Columns. Name = Name, Age, Income, Phone\n",
    "        #\n",
    "        #Columns     Datatype\n",
    "        Name    =   Field.String\n",
    "        Age     =   Field.Integer\n",
    "        Income  =   Field.Integer\n",
    "        Phone   =   Field.LongInt\n",
    "        #\n",
    "\n",
    "    # Creating New Table. Name=\"AboutBooks\"\n",
    "    class AboutBooks:\n",
    "        # Creating 4 Columns. Name = Name, Price, Class\n",
    "        #\n",
    "        # Columns   DataType\n",
    "        Name    =   Field.String\n",
    "        Price   =   Field.Integer\n",
    "        Class   =   Field.String\n",
    "        #                   \n",
    "\n",
    "    # Creating New Table. Name=\"AboutStudents\"\n",
    "    class AboutStudents:\n",
    "        # Creating 4 Columns. Name = Name, Age, Class, Phone\n",
    "        #\n",
    "        #Columns     Datatype\n",
    "        Name    =   Field.String\n",
    "        Age     =   Field.Integer\n",
    "        Class  =   Field.String\n",
    "        Phone   =   Field.LongInt\n",
    "        #\n"
   ]
  },
  {
   "cell_type": "code",
   "execution_count": 74,
   "metadata": {
    "collapsed": false
   },
   "outputs": [
    {
     "name": "stdout",
     "output_type": "stream",
     "text": [
      "[Info] Creating New Database ....  Database Ready!\n",
      "[Info] Creating New Tables And Columns .... \n",
      "\t Table AboutBooks\n",
      "\t\t Column Price\n",
      "\t\t Column Name\n",
      "\t\t Column Class\n",
      "\t Table AboutTeachers\n",
      "\t\t Column Phone\n",
      "\t\t Column Name\n",
      "\t\t Column Income\n",
      "\t\t Column Age\n",
      "\t Table AboutStudents\n",
      "\t\t Column Phone\n",
      "\t\t Column Name\n",
      "\t\t Column Age\n",
      "\t\t Column Class\n",
      " Done!..\n",
      "[*] Checking Tables And Columns\n"
     ]
    }
   ],
   "source": [
    "#\n",
    "#    =====================================\n",
    "#    =========== DataBase ================\n",
    "#    =====================================\n",
    "#\n",
    "#   connect(path=\"\", dbname=None)   --> Connect To Database\n",
    "#   close()                         --> Close Database    \n",
    "#   save()                          --> Save All Changes\n",
    "#   get_db_names()                  --> Get Default Database Name\n",
    "#   get_all_columns_(TableName)     --> Get All Columns Name List\n",
    "#   get_all_table_with_class()      --> Get All Tables With Class Object As Dictonery\n",
    "#   get_all_tables_name()           --> Get All Tables Name\n",
    "#   get_tables()                    --> Get All Tables Object\n",
    "#   Table(name=None)                --> Get Table Object\n",
    "#\n",
    "# Create Object For InterFace        \n",
    "DBase = TestingDataBase()\n",
    "\n",
    "# Connect To DataBase\n",
    "DBase.connect()\n",
    "# or \n",
    "# DBase.connect(dbname=\"Testing_DataBase\")"
   ]
  },
  {
   "cell_type": "code",
   "execution_count": 75,
   "metadata": {
    "collapsed": false
   },
   "outputs": [
    {
     "name": "stdout",
     "output_type": "stream",
     "text": [
      "['AboutBooks', 'AboutTeachers', 'AboutStudents']\n",
      "{'AboutBooks': < TableControls:AboutBooks >, 'AboutTeachers': < TableControls:AboutTeachers >, 'AboutStudents': < TableControls:AboutStudents >}\n"
     ]
    }
   ],
   "source": [
    "# Get All Available Tables Names as list\n",
    "print DBase.get_all_tables_name()\n",
    "\n",
    "# Get All Tables With Interface Object In Dictionery\n",
    "print DBase.get_tables()"
   ]
  },
  {
   "cell_type": "code",
   "execution_count": 76,
   "metadata": {
    "collapsed": false
   },
   "outputs": [
    {
     "name": "stdout",
     "output_type": "stream",
     "text": [
      "Table Name : AboutBooks\n",
      "[('Price', 'INTEGER'), ('Name', 'TEXT'), ('Class', 'TEXT')]\n",
      "Table Name : AboutTeachers\n",
      "[('Phone', 'INTEGER'), ('Name', 'TEXT'), ('Income', 'INTEGER'), ('Age', 'INTEGER')]\n",
      "Table Name : AboutStudents\n",
      "[('Phone', 'INTEGER'), ('Name', 'TEXT'), ('Age', 'INTEGER'), ('Class', 'TEXT')]\n"
     ]
    }
   ],
   "source": [
    "# Get All Columns Names From Tables\n",
    "for table in DBase.get_all_tables_name():\n",
    "    print \"Table Name : {}\".format(table) \n",
    "    print DBase.get_all_columns_(table) # As List"
   ]
  },
  {
   "cell_type": "code",
   "execution_count": 77,
   "metadata": {
    "collapsed": false
   },
   "outputs": [
    {
     "name": "stdout",
     "output_type": "stream",
     "text": [
      "TestingDataBase\n"
     ]
    }
   ],
   "source": [
    "# Default Database Name \n",
    "print DBase.get_db_names()"
   ]
  },
  {
   "cell_type": "code",
   "execution_count": 78,
   "metadata": {
    "collapsed": false
   },
   "outputs": [
    {
     "name": "stdout",
     "output_type": "stream",
     "text": [
      "< TableControls:AboutTeachers >\n"
     ]
    }
   ],
   "source": [
    "#\n",
    "#\n",
    "#    =====================================\n",
    "#    ============= Table =================   \n",
    "#    =====================================\n",
    "#\n",
    "#   new()               --> New Row Interface\n",
    "#   insert(**kwargs)    --> Insert New Values Into Row, id argument Required\n",
    "#   update(id=None, data={}) --> Update Values Into Row\n",
    "#   delete(id)          --> Delete Row , Id argument Required\n",
    "#   search(**kwargs)    --> Search Row Object InterFace\n",
    "#   get_all()           --> Get All Row Object InterFace as list\n",
    "#   has(id)             --> Check Row\n",
    "#   columns_name()      --> Get All Columns Names As List\n",
    "#   save()              --> Save All Changes\n",
    "#   get_tables_name()   --> Get Current Object Table Name\n",
    "#   table_access(TableName) --> Change Current Object Table Access\n",
    "#\n",
    "#\n",
    "# Get Table Interface\n",
    "t = DBase.Table(name=\"AboutTeachers\")\n",
    "# or\n",
    "t = DBase.get_tables()[\"AboutTeachers\"]\n",
    "\n",
    "print t"
   ]
  },
  {
   "cell_type": "code",
   "execution_count": 79,
   "metadata": {
    "collapsed": false
   },
   "outputs": [
    {
     "name": "stdout",
     "output_type": "stream",
     "text": [
      "< Row-ID:NEW >\n"
     ]
    }
   ],
   "source": [
    "#\n",
    "# =====================================\n",
    "# ============= Row ===================\n",
    "# =====================================\n",
    "#\n",
    "#   get_all()           --> Get All Values In Dictionery\n",
    "#   set_all(**kwargs)   --> Set Values\n",
    "#   save()              --> Save Changes Into Database\n",
    "#\n",
    "#\n",
    "# Create New Row Object Interface\n",
    "nr = t.new()\n",
    "\n",
    "print nr"
   ]
  },
  {
   "cell_type": "code",
   "execution_count": 80,
   "metadata": {
    "collapsed": true
   },
   "outputs": [],
   "source": [
    "# Set Values\n",
    "\n",
    "nr.Age = 10        # Column Age\n",
    "\n",
    "nr.Income = 45000  \n",
    "\n",
    "nr.Name = \"Suraj\""
   ]
  },
  {
   "cell_type": "code",
   "execution_count": 81,
   "metadata": {
    "collapsed": false
   },
   "outputs": [
    {
     "name": "stdout",
     "output_type": "stream",
     "text": [
      "{'id': 'NEW', 'Phone': None, 'Age': 10, 'Name': 'Suraj', 'Income': 45000}\n"
     ]
    }
   ],
   "source": [
    "# Print Assign Values\n",
    "print nr.get_all()"
   ]
  },
  {
   "cell_type": "code",
   "execution_count": 82,
   "metadata": {
    "collapsed": false
   },
   "outputs": [
    {
     "data": {
      "text/plain": [
       "True"
      ]
     },
     "execution_count": 82,
     "metadata": {},
     "output_type": "execute_result"
    }
   ],
   "source": [
    "# Save Data Values In Database\n",
    "nr.save()\n",
    "#\n",
    "# You Don't Need To Create New Row Object Again And Again.\n",
    "# Because After Saving Data., \n",
    "# Row Object Interface Reset Automatically.\n",
    "# And Then You Can Use Object "
   ]
  },
  {
   "cell_type": "code",
   "execution_count": 83,
   "metadata": {
    "collapsed": false
   },
   "outputs": [
    {
     "name": "stdout",
     "output_type": "stream",
     "text": [
      "{'id': 'NEW', 'Phone': None, 'Age': None, 'Name': None, 'Income': None}\n"
     ]
    }
   ],
   "source": [
    "# Get All Values From Row Object Interface After Saving\n",
    "print nr.get_all()"
   ]
  },
  {
   "cell_type": "code",
   "execution_count": 84,
   "metadata": {
    "collapsed": true
   },
   "outputs": [],
   "source": [
    "# Set New Values Using set_all\n",
    "nr.set_all(Age=10, Income = 45000, Name = \"Sam\")"
   ]
  },
  {
   "cell_type": "code",
   "execution_count": 85,
   "metadata": {
    "collapsed": false
   },
   "outputs": [
    {
     "name": "stdout",
     "output_type": "stream",
     "text": [
      "{'id': 'NEW', 'Phone': None, 'Age': 10, 'Name': 'Sam', 'Income': 45000}\n"
     ]
    }
   ],
   "source": [
    "# Get All Assigned Values As Dictonery\n",
    "print nr.get_all()"
   ]
  },
  {
   "cell_type": "code",
   "execution_count": 86,
   "metadata": {
    "collapsed": false
   },
   "outputs": [
    {
     "name": "stdout",
     "output_type": "stream",
     "text": [
      "True\n"
     ]
    }
   ],
   "source": [
    "# Save Changes\n",
    "print nr.save()"
   ]
  },
  {
   "cell_type": "code",
   "execution_count": 87,
   "metadata": {
    "collapsed": false
   },
   "outputs": [
    {
     "name": "stdout",
     "output_type": "stream",
     "text": [
      "[< Row-ID:1 >, < Row-ID:2 >]\n"
     ]
    }
   ],
   "source": [
    "# Get All Row Object Interface As List\n",
    "print t.get_all()"
   ]
  },
  {
   "cell_type": "code",
   "execution_count": 88,
   "metadata": {
    "collapsed": false
   },
   "outputs": [
    {
     "name": "stdout",
     "output_type": "stream",
     "text": [
      "[< Row-ID:2 >]\n"
     ]
    }
   ],
   "source": [
    "# Get Row Object Interface, Using Id As List\n",
    "print t.get(id=2)"
   ]
  },
  {
   "cell_type": "code",
   "execution_count": 89,
   "metadata": {
    "collapsed": true
   },
   "outputs": [],
   "source": [
    "# For Accessing Row Object Interface\n",
    "storeobj = t.get(id=1)[0]"
   ]
  },
  {
   "cell_type": "code",
   "execution_count": 90,
   "metadata": {
    "collapsed": false
   },
   "outputs": [
    {
     "name": "stdout",
     "output_type": "stream",
     "text": [
      "{'id': 1, 'Phone': None, 'Age': 10, 'Name': u'Suraj', 'Income': 45000}\n"
     ]
    }
   ],
   "source": [
    "# Get All Values As Dictonery From Row Object Interface\n",
    "print storeobj.get_all()"
   ]
  },
  {
   "cell_type": "code",
   "execution_count": 91,
   "metadata": {
    "collapsed": true
   },
   "outputs": [],
   "source": [
    "# Updae Value\n",
    "storeobj.Income = 50000"
   ]
  },
  {
   "cell_type": "code",
   "execution_count": 92,
   "metadata": {
    "collapsed": false
   },
   "outputs": [
    {
     "data": {
      "text/plain": [
       "True"
      ]
     },
     "execution_count": 92,
     "metadata": {},
     "output_type": "execute_result"
    }
   ],
   "source": [
    "# Save Update\n",
    "storeobj.save()"
   ]
  },
  {
   "cell_type": "code",
   "execution_count": 93,
   "metadata": {
    "collapsed": false
   },
   "outputs": [
    {
     "name": "stdout",
     "output_type": "stream",
     "text": [
      "{'id': 1, 'Phone': None, 'Age': 10, 'Name': u'Suraj', 'Income': 50000}\n",
      "{'id': 2, 'Phone': None, 'Age': 10, 'Name': u'Sam', 'Income': 45000}\n"
     ]
    }
   ],
   "source": [
    "# Get All Row Object Interface \n",
    "for i in t.get_all():\n",
    "    # Get All Values From Row OBject Interface As Dictonery\n",
    "    print i.get_all()"
   ]
  },
  {
   "cell_type": "code",
   "execution_count": 94,
   "metadata": {
    "collapsed": false
   },
   "outputs": [
    {
     "name": "stdout",
     "output_type": "stream",
     "text": [
      "Search trgger\n",
      "< Row-ID:2 >\n"
     ]
    }
   ],
   "source": [
    "# Search Row Object Interface Using Any Values of column\n",
    "obj = t.search(Income=45000)[0]\n",
    "\n",
    "print obj"
   ]
  },
  {
   "cell_type": "code",
   "execution_count": 95,
   "metadata": {
    "collapsed": false
   },
   "outputs": [],
   "source": [
    "# Delete Row Using Row OBject Interface Or Id \n",
    "t.delete(obj)"
   ]
  },
  {
   "cell_type": "code",
   "execution_count": 96,
   "metadata": {
    "collapsed": false
   },
   "outputs": [
    {
     "data": {
      "text/plain": [
       "[< Row-ID:1 >]"
      ]
     },
     "execution_count": 96,
     "metadata": {},
     "output_type": "execute_result"
    }
   ],
   "source": [
    "# Again! Get All Row Object Interface\n",
    "t.get_all()"
   ]
  },
  {
   "cell_type": "code",
   "execution_count": 97,
   "metadata": {
    "collapsed": false
   },
   "outputs": [
    {
     "data": {
      "text/plain": [
       "[('Phone', 'INTEGER'),\n",
       " ('Name', 'TEXT'),\n",
       " ('Income', 'INTEGER'),\n",
       " ('Age', 'INTEGER')]"
      ]
     },
     "execution_count": 97,
     "metadata": {},
     "output_type": "execute_result"
    }
   ],
   "source": [
    "# Get All Column Names Of Current Selected Table Object Interface\n",
    "t.columns_name()"
   ]
  },
  {
   "cell_type": "code",
   "execution_count": 98,
   "metadata": {
    "collapsed": false
   },
   "outputs": [
    {
     "data": {
      "text/plain": [
       "['AboutBooks', 'AboutTeachers', 'AboutStudents']"
      ]
     },
     "execution_count": 98,
     "metadata": {},
     "output_type": "execute_result"
    }
   ],
   "source": [
    "# Get All Table Names \n",
    "t.get_tables_name()"
   ]
  },
  {
   "cell_type": "code",
   "execution_count": 99,
   "metadata": {
    "collapsed": false
   },
   "outputs": [
    {
     "data": {
      "text/plain": [
       "'AboutTeachers'"
      ]
     },
     "execution_count": 99,
     "metadata": {},
     "output_type": "execute_result"
    }
   ],
   "source": [
    "# Change Current Table Object Interface\n",
    "t.TableHook"
   ]
  },
  {
   "cell_type": "code",
   "execution_count": 100,
   "metadata": {
    "collapsed": false
   },
   "outputs": [
    {
     "name": "stdout",
     "output_type": "stream",
     "text": [
      "[+] Testing Complete.\n"
     ]
    },
    {
     "data": {
      "text/plain": [
       "''"
      ]
     },
     "execution_count": 100,
     "metadata": {},
     "output_type": "execute_result"
    }
   ],
   "source": [
    "# Save Changes\n",
    "DBase.save()\n",
    "\n",
    "# Close Database\n",
    "DBase.close()\n",
    "\n",
    "raw_input(\"[+] Testing Complete.\")"
   ]
  }
 ],
 "metadata": {
  "kernelspec": {
   "display_name": "Python 2",
   "language": "python",
   "name": "python2"
  },
  "language_info": {
   "codemirror_mode": {
    "name": "ipython",
    "version": 2
   },
   "file_extension": ".py",
   "mimetype": "text/x-python",
   "name": "python",
   "nbconvert_exporter": "python",
   "pygments_lexer": "ipython2",
   "version": "2.7.12"
  }
 },
 "nbformat": 4,
 "nbformat_minor": 2
}
